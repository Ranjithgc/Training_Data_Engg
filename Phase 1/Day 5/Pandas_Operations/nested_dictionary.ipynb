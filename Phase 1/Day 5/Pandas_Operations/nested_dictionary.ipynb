{
 "cells": [
  {
   "cell_type": "code",
   "execution_count": 29,
   "metadata": {},
   "outputs": [],
   "source": [
    "import pandas as pd"
   ]
  },
  {
   "cell_type": "code",
   "execution_count": 32,
   "metadata": {},
   "outputs": [],
   "source": [
    "list = [\n",
    "        {\n",
    "          \"Name\": \"Ranjith\",\n",
    "          \"Student\": [{\"Exam\": 90, \"Grade\": \"a\"},\n",
    "                    {\"Exam\": 99, \"Grade\": \"b\"},\n",
    "                    {\"Exam\": 97, \"Grade\": \"c\"},\n",
    "                   ]\n",
    "        },\n",
    "        {\n",
    "          \"Name\": \"Venugopal\",\n",
    "          \"Student\": [{\"Exam\": 89, \"Grade\": \"a\"},\n",
    "                    {\"Exam\": 80, \"Grade\": \"b\"}\n",
    "                  ]\n",
    "        \n",
    "        }\n",
    "       ]\n",
    "  "
   ]
  },
  {
   "cell_type": "code",
   "execution_count": 33,
   "metadata": {},
   "outputs": [
    {
     "name": "stdout",
     "output_type": "stream",
     "text": [
      "   Exam Grade       Name\n",
      "0    90     a    Ranjith\n",
      "1    99     b    Ranjith\n",
      "2    97     c    Ranjith\n",
      "3    89     a  Venugopal\n",
      "4    80     b  Venugopal\n"
     ]
    }
   ],
   "source": [
    "\n",
    "# rows list initialization\n",
    "rows = []\n",
    "  \n",
    "# appending rows\n",
    "for data in list:\n",
    "    data_row = data['Student']\n",
    "    time = data['Name']\n",
    "      \n",
    "    for row in data_row:\n",
    "        row['Name']= time\n",
    "        rows.append(row)\n",
    "  \n",
    "# using data frame\n",
    "df = pd.DataFrame(rows)\n",
    "  \n",
    "print(df)"
   ]
  },
  {
   "cell_type": "code",
   "execution_count": 34,
   "metadata": {},
   "outputs": [
    {
     "name": "stdout",
     "output_type": "stream",
     "text": [
      "        Name  Maths  Physics  Chemistry\n",
      "0    Ranjith   90.0     99.0       97.0\n",
      "1  Venugopal   89.0     80.0        NaN\n"
     ]
    }
   ],
   "source": [
    "# using pivot_table\n",
    "df = df.pivot_table(index ='Name', columns =['Grade'],\n",
    "                        values =['Exam']).reset_index()\n",
    "  \n",
    "# Defining columns\n",
    "df.columns =['Name', 'Maths', 'Physics', 'Chemistry']\n",
    "  \n",
    "# print dataframe\n",
    "print(df)"
   ]
  }
 ],
 "metadata": {
  "interpreter": {
   "hash": "3e8fe85fa99146e6e0c4101fb1088d3251311719e46dc7471caa0d56fddea5fc"
  },
  "kernelspec": {
   "display_name": "Python 3.8.10 64-bit ('day5_env': venv)",
   "language": "python",
   "name": "python3"
  },
  "language_info": {
   "codemirror_mode": {
    "name": "ipython",
    "version": 3
   },
   "file_extension": ".py",
   "mimetype": "text/x-python",
   "name": "python",
   "nbconvert_exporter": "python",
   "pygments_lexer": "ipython3",
   "version": "3.8.10"
  },
  "orig_nbformat": 4
 },
 "nbformat": 4,
 "nbformat_minor": 2
}
