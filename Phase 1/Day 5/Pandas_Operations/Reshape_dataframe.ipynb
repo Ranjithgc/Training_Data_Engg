{
 "cells": [
  {
   "cell_type": "code",
   "execution_count": 2,
   "metadata": {},
   "outputs": [],
   "source": [
    "import pandas as pd"
   ]
  },
  {
   "cell_type": "code",
   "execution_count": 3,
   "metadata": {},
   "outputs": [],
   "source": [
    "dataFrame = pd.DataFrame(\n",
    "   {\n",
    "      \"Student\": ['Jack', 'Robin', 'Ted', 'Scarlett', 'Kat'],\"Result\": ['Pass', 'Fail', 'Fail', 'Pass', 'Pass']\n",
    "\n",
    "   }\n",
    ")"
   ]
  },
  {
   "cell_type": "code",
   "execution_count": 4,
   "metadata": {},
   "outputs": [
    {
     "name": "stdout",
     "output_type": "stream",
     "text": [
      "DataFrame ...\n",
      "     Student Result\n",
      "0      Jack   Pass\n",
      "1     Robin   Fail\n",
      "2       Ted   Fail\n",
      "3  Scarlett   Pass\n",
      "4       Kat   Pass\n",
      "\n",
      "Reshaped DataFrame ...\n",
      "     Student  Result\n",
      "0      Jack       1\n",
      "1     Robin       0\n",
      "2       Ted       0\n",
      "3  Scarlett       1\n",
      "4       Kat       1\n"
     ]
    }
   ],
   "source": [
    "print(\"DataFrame ...\\n\",dataFrame)\n",
    "\n",
    "# reshaping into numbers\n",
    "dataFrame['Result'] = dataFrame['Result'].map({'Pass': 1,'Fail': 0, })\n",
    "\n",
    "print(\"\\nReshaped DataFrame ...\\n\",dataFrame)"
   ]
  },
  {
   "cell_type": "code",
   "execution_count": 6,
   "metadata": {},
   "outputs": [
    {
     "data": {
      "text/plain": [
       "(5, 2)"
      ]
     },
     "execution_count": 6,
     "metadata": {},
     "output_type": "execute_result"
    }
   ],
   "source": [
    "dataFrame.shape"
   ]
  }
 ],
 "metadata": {
  "interpreter": {
   "hash": "3e8fe85fa99146e6e0c4101fb1088d3251311719e46dc7471caa0d56fddea5fc"
  },
  "kernelspec": {
   "display_name": "Python 3.8.10 64-bit ('day5_env': venv)",
   "language": "python",
   "name": "python3"
  },
  "language_info": {
   "codemirror_mode": {
    "name": "ipython",
    "version": 3
   },
   "file_extension": ".py",
   "mimetype": "text/x-python",
   "name": "python",
   "nbconvert_exporter": "python",
   "pygments_lexer": "ipython3",
   "version": "3.8.10"
  },
  "orig_nbformat": 4
 },
 "nbformat": 4,
 "nbformat_minor": 2
}
