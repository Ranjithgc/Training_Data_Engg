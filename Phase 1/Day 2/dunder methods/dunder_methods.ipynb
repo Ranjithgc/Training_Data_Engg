{
 "cells": [
  {
   "cell_type": "markdown",
   "metadata": {},
   "source": [
    "#  __new__ method"
   ]
  },
  {
   "cell_type": "code",
   "execution_count": 1,
   "metadata": {},
   "outputs": [],
   "source": [
    "class Employee:\n",
    "    def __new__(cls):\n",
    "        print (\"__new__ magic method is called\")\n",
    "        inst = object.__new__(cls)\n",
    "        return inst\n",
    "    \n",
    "    def __init__(self):\n",
    "        print (\"__init__ magic method is called\")\n",
    "        self.name='Satya'\n"
   ]
  },
  {
   "cell_type": "code",
   "execution_count": 2,
   "metadata": {},
   "outputs": [
    {
     "name": "stdout",
     "output_type": "stream",
     "text": [
      "__new__ magic method is called\n",
      "__init__ magic method is called\n"
     ]
    }
   ],
   "source": [
    "emp = Employee()"
   ]
  },
  {
   "cell_type": "markdown",
   "metadata": {},
   "source": [
    "# __str__() method"
   ]
  },
  {
   "cell_type": "code",
   "execution_count": 4,
   "metadata": {},
   "outputs": [],
   "source": [
    "class Employee:\n",
    "    def __init__(self):\n",
    "        self.name='Swati'\n",
    "        self.salary=10000\n",
    "    def __str__(self):\n",
    "        return 'name='+self.name+' salary=$'+str(self.salary)"
   ]
  },
  {
   "cell_type": "code",
   "execution_count": 5,
   "metadata": {},
   "outputs": [
    {
     "name": "stdout",
     "output_type": "stream",
     "text": [
      "name=Swati salary=$10000\n"
     ]
    }
   ],
   "source": [
    "e1=Employee()\n",
    "print(e1)"
   ]
  },
  {
   "cell_type": "markdown",
   "metadata": {},
   "source": [
    "# __add__() method"
   ]
  },
  {
   "cell_type": "code",
   "execution_count": 6,
   "metadata": {},
   "outputs": [],
   "source": [
    "class distance:\n",
    "    def __init__(self, x=None,y=None):\n",
    "        self.ft=x\n",
    "        self.inch=y\n",
    "    def __add__(self,x):\n",
    "        temp=distance()\n",
    "        temp.ft=self.ft+x.ft\n",
    "        temp.inch=self.inch+x.inch\n",
    "        if temp.inch>=12:\n",
    "            temp.ft+=1\n",
    "            temp.inch-=12\n",
    "            return temp\n",
    "    def __str__(self):\n",
    "        return 'ft:'+str(self.ft)+' in: '+str(self.inch)"
   ]
  },
  {
   "cell_type": "code",
   "execution_count": 7,
   "metadata": {},
   "outputs": [
    {
     "name": "stdout",
     "output_type": "stream",
     "text": [
      "d1= ft:3 in: 10 d2=ft:4 in: 4\n",
      "ft:8 in: 2\n"
     ]
    }
   ],
   "source": [
    "d1=distance(3,10)\n",
    "d2=distance(4,4)\n",
    "print(\"d1= {} d2={}\".format(d1, d2))\n",
    "\n",
    "d3=d1+d2\n",
    "print(d3)"
   ]
  },
  {
   "cell_type": "markdown",
   "metadata": {},
   "source": [
    "# __ge__() Method"
   ]
  },
  {
   "cell_type": "code",
   "execution_count": 8,
   "metadata": {},
   "outputs": [],
   "source": [
    "class distance:\n",
    "    def __init__(self, x=None,y=None):\n",
    "        self.ft=x\n",
    "        self.inch=y\n",
    "    def __ge__(self, x):\n",
    "        val1=self.ft*12+self.inch\n",
    "        val2=x.ft*12+x.inch\n",
    "        if val1>=val2:\n",
    "            return True\n",
    "        else:\n",
    "            return False"
   ]
  },
  {
   "cell_type": "code",
   "execution_count": 9,
   "metadata": {},
   "outputs": [
    {
     "data": {
      "text/plain": [
       "False"
      ]
     },
     "execution_count": 9,
     "metadata": {},
     "output_type": "execute_result"
    }
   ],
   "source": [
    "d1=distance(2,1)\n",
    "d2=distance(4,10)\n",
    "d1>=d2"
   ]
  },
  {
   "cell_type": "markdown",
   "metadata": {},
   "source": [
    "# __len__ method"
   ]
  },
  {
   "cell_type": "code",
   "execution_count": 1,
   "metadata": {},
   "outputs": [
    {
     "name": "stdout",
     "output_type": "stream",
     "text": [
      "3\n"
     ]
    }
   ],
   "source": [
    "class LenExample:\n",
    "    def __init__(self, item):\n",
    "        self.item = item\n",
    "    def __len__(self):\n",
    "        return len(self.item)\n",
    "len_instance = LenExample([1, 2, 3])\n",
    "print(len(len_instance))"
   ]
  },
  {
   "cell_type": "code",
   "execution_count": 2,
   "metadata": {},
   "outputs": [
    {
     "name": "stdout",
     "output_type": "stream",
     "text": [
      "True False True False False True\n"
     ]
    }
   ],
   "source": [
    "class Comparison:\n",
    "    def __init__(self, a):\n",
    "        self.a = a\n",
    "    def __lt__(self, object2):\n",
    "        return self.a < object2.a\n",
    "    def __gt__(self, object2):\n",
    "        return self.a > object2.a\n",
    "    def __le__(self, object2):\n",
    "        return self.a <= object2.a\n",
    "    def __ge__(self, object2):\n",
    "        return self.a >= object2.a\n",
    "    def __eq__(self, object2):\n",
    "        return self.a == object2.a\n",
    "    def __ne__(self, object2):\n",
    "        return self.a != object2.a\n",
    "a = Comparison(1)\n",
    "b = Comparison(2)\n",
    "print(\n",
    "    a < b,\n",
    "    a > b,\n",
    "    a <= b,\n",
    "    a >= b,\n",
    "    a == b,\n",
    "    a != b\n",
    ")"
   ]
  },
  {
   "cell_type": "markdown",
   "metadata": {},
   "source": [
    "# __contains__ method"
   ]
  },
  {
   "cell_type": "code",
   "execution_count": 3,
   "metadata": {},
   "outputs": [
    {
     "name": "stdout",
     "output_type": "stream",
     "text": [
      "True\n"
     ]
    }
   ],
   "source": [
    "class ContainsExample:\n",
    "    def __init__(self, items):\n",
    "        self.items = items\n",
    "    def __contains__(self, item):\n",
    "        return item in self.items\n",
    "contains_instance = ContainsExample([1, 2, 3, 4, 5])\n",
    "print(4 in contains_instance)"
   ]
  },
  {
   "cell_type": "markdown",
   "metadata": {},
   "source": [
    "# __iter__ magic method"
   ]
  },
  {
   "cell_type": "code",
   "execution_count": 7,
   "metadata": {},
   "outputs": [
    {
     "name": "stdout",
     "output_type": "stream",
     "text": [
      "1\n",
      "4\n",
      "9\n"
     ]
    }
   ],
   "source": [
    "class Squares:\n",
    "    def __init__(self, start, stop):\n",
    "        self.start = start\n",
    "        self.stop = stop\n",
    "    def __iter__(self):\n",
    "        for value in range(self.start, self.stop + 1):\n",
    "            yield value ** 2\n",
    "i = iter(Squares(1, 3))\n",
    "print(next(i))\n",
    "print(next(i))\n",
    "print(next(i))"
   ]
  }
 ],
 "metadata": {
  "interpreter": {
   "hash": "8878a5823ef727ab8bee783d5cd77c044e2af57ae2996a571eb91a98346e0cba"
  },
  "kernelspec": {
   "display_name": "Python 3.8.10 64-bit ('day2_env': venv)",
   "language": "python",
   "name": "python3"
  },
  "language_info": {
   "codemirror_mode": {
    "name": "ipython",
    "version": 3
   },
   "file_extension": ".py",
   "mimetype": "text/x-python",
   "name": "python",
   "nbconvert_exporter": "python",
   "pygments_lexer": "ipython3",
   "version": "3.8.10"
  },
  "orig_nbformat": 4
 },
 "nbformat": 4,
 "nbformat_minor": 2
}
