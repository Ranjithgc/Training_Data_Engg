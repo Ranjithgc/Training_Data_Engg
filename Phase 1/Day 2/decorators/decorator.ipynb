{
 "cells": [
  {
   "cell_type": "markdown",
   "metadata": {},
   "source": [
    "# Syntactic Decorator"
   ]
  },
  {
   "cell_type": "code",
   "execution_count": 6,
   "metadata": {},
   "outputs": [
    {
     "name": "stdout",
     "output_type": "stream",
     "text": [
      "[16, 400, 100, 169]\n"
     ]
    }
   ],
   "source": [
    "def my_decorator(power):\n",
    "    def decorator_list(fnc):\n",
    "        def inner(list_of_tuples):\n",
    "            return [(fnc(val[0], val[1])) ** power for val in list_of_tuples]\n",
    "        return inner\n",
    "    return decorator_list\n",
    "\n",
    "\n",
    "@my_decorator(2)\n",
    "def add_together(a, b):\n",
    "    return a + b\n",
    "\n",
    "\n",
    "print(add_together([(1, 3), (3, 17), (5, 5), (6, 7)]))"
   ]
  },
  {
   "cell_type": "markdown",
   "metadata": {},
   "source": [
    "# Reusing Decorator"
   ]
  },
  {
   "cell_type": "code",
   "execution_count": 7,
   "metadata": {},
   "outputs": [],
   "source": [
    "def do_twice(func):  \n",
    "    def wrapper_do_twice():  \n",
    "        func()  \n",
    "        func()  \n",
    "    return wrapper_do_twice  "
   ]
  },
  {
   "cell_type": "code",
   "execution_count": 8,
   "metadata": {},
   "outputs": [
    {
     "name": "stdout",
     "output_type": "stream",
     "text": [
      "Hello There\n",
      "Hello There\n"
     ]
    }
   ],
   "source": [
    "@do_twice  \n",
    "def say_hello():  \n",
    "    print(\"Hello There\")  \n",
    "say_hello()  "
   ]
  },
  {
   "cell_type": "markdown",
   "metadata": {},
   "source": [
    "# Python Decorator with Argument"
   ]
  },
  {
   "cell_type": "code",
   "execution_count": 9,
   "metadata": {},
   "outputs": [],
   "source": [
    "def do_twice(func):  \n",
    "    def wrapper_function(*args,**kwargs):  \n",
    "        func(*args,**kwargs)  \n",
    "        func(*args,**kwargs)  \n",
    "    return wrapper_function "
   ]
  },
  {
   "cell_type": "code",
   "execution_count": 10,
   "metadata": {},
   "outputs": [
    {
     "name": "stdout",
     "output_type": "stream",
     "text": [
      "Hello Ranjith\n",
      "Hello Ranjith\n"
     ]
    }
   ],
   "source": [
    "@do_twice  \n",
    "def display(name):  \n",
    "      print(f\"Hello {name}\")  \n",
    "display(\"Ranjith\")  "
   ]
  },
  {
   "cell_type": "markdown",
   "metadata": {},
   "source": [
    "# Property Decorator\n",
    "The @property is generally used to modify the getters and setters of a class attributes."
   ]
  },
  {
   "cell_type": "code",
   "execution_count": 13,
   "metadata": {},
   "outputs": [
    {
     "name": "stdout",
     "output_type": "stream",
     "text": [
      "Name: Ranjith\n",
      "Grade: B\n",
      "Ranjith got grade B\n"
     ]
    }
   ],
   "source": [
    "class Student:  \n",
    "    def __init__(self,name,grade):  \n",
    "         self.name = name  \n",
    "         self.grade = grade  \n",
    "    @property  \n",
    "    def display(self):  \n",
    "         return self.name + \" got grade \" + self.grade  \n",
    "  \n",
    "stu = Student(\"Ranjith\",\"B\")  \n",
    "print(\"Name:\", stu.name)  \n",
    "print(\"Grade:\", stu.grade)  \n",
    "print(stu.display)"
   ]
  },
  {
   "cell_type": "markdown",
   "metadata": {},
   "source": [
    "# Static method Decorator"
   ]
  },
  {
   "cell_type": "code",
   "execution_count": 14,
   "metadata": {},
   "outputs": [
    {
     "name": "stdout",
     "output_type": "stream",
     "text": [
      "Hello Peter\n",
      "Hello Peter\n"
     ]
    }
   ],
   "source": [
    "class Person:  \n",
    "     @staticmethod  \n",
    "     def hello():  \n",
    "          print(\"Hello Peter\")  \n",
    "per = Person()  \n",
    "per.hello()  \n",
    "Person.hello() "
   ]
  }
 ],
 "metadata": {
  "interpreter": {
   "hash": "8878a5823ef727ab8bee783d5cd77c044e2af57ae2996a571eb91a98346e0cba"
  },
  "kernelspec": {
   "display_name": "Python 3.8.10 64-bit ('day2_env': venv)",
   "language": "python",
   "name": "python3"
  },
  "language_info": {
   "codemirror_mode": {
    "name": "ipython",
    "version": 3
   },
   "file_extension": ".py",
   "mimetype": "text/x-python",
   "name": "python",
   "nbconvert_exporter": "python",
   "pygments_lexer": "ipython3",
   "version": "3.8.10"
  },
  "orig_nbformat": 4
 },
 "nbformat": 4,
 "nbformat_minor": 2
}
