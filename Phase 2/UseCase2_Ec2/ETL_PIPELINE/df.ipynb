{
 "cells": [
  {
   "cell_type": "code",
   "execution_count": null,
   "metadata": {},
   "outputs": [],
   "source": [
    "import pandas as pd\n",
    "from datetime import timedelta,datetime\n",
    "import numpy as np"
   ]
  },
  {
   "cell_type": "code",
   "execution_count": 9,
   "metadata": {},
   "outputs": [
    {
     "data": {
      "text/plain": [
       "' ORDERNUMBER  QUANTITYORDERED  PRICEEACH  ORDERLINENUMBER   SALES        ORDERDATE  STATUS  QTR_ID  MONTH_ID  YEAR_ID PRODUCTLINE\\n       10107               30      95.70                2 2871.00 11/29/2021 23:00 Shipped       1         2     2003 Motorcycles\\n       10121               34      81.35                5 2765.90 11/29/2021 22:00 Shipped       2         5     2003 Motorcycles\\n       10134               41      94.74                2 3884.34 11/29/2021 21:00 Shipped       3         7     2003 Motorcycles\\n       10145               45      83.26                6 3746.70 11/29/2021 20:00 Shipped       3         8     2003 Motorcycles\\n       10159               49     100.00               14 5205.27 11/29/2021 19:00 Shipped       4        10     2003 Motorcycles\\n       10168               36      96.66                1 3479.76 11/29/2021 18:00 Shipped       4        10     2003 Motorcycles\\n       10190               29      86.13                9 2497.77 11/29/2021 17:00 Shipped       4        11     2003 Motorcycles\\n       10198               48     100.00                1 5512.32 11/29/2021 16:00 Shipped       4        11     2003 Motorcycles\\n       10201               23      98.57                2 2168.54 11/29/2021 15:00 Shipped       4        12     2003 Motorcycles\\n       10210               41     100.00               14 4708.44 11/29/2021 14:00 Shipped       1         1     2004 Motorcycles'"
      ]
     },
     "execution_count": 9,
     "metadata": {},
     "output_type": "execute_result"
    }
   ],
   "source": [
    "sales_data = pd.read_csv(r'C:\\Users\\Ranjith.gc\\Training(Ranjith)\\Phase 2\\UseCase2_Ec2\\ETL_PIPELINE\\sales_data_sample.csv')\n",
    "sales_data.to_string(index=False)\n",
    "a = sales_data.head(10)\n",
    "a.to_string(index=False)"
   ]
  },
  {
   "cell_type": "code",
   "execution_count": null,
   "metadata": {},
   "outputs": [],
   "source": [
    "sales_data['ORDERDATE']=pd.to_datetime(sales_data['ORDERDATE'])"
   ]
  },
  {
   "cell_type": "code",
   "execution_count": null,
   "metadata": {},
   "outputs": [],
   "source": [
    "now = datetime.now()\n",
    "print(now)\n",
    "subtracted_date = now - timedelta(days=1)\n",
    "subtracted_date\n"
   ]
  },
  {
   "cell_type": "code",
   "execution_count": null,
   "metadata": {},
   "outputs": [],
   "source": [
    "add_hour = subtracted_date + timedelta(hours=1)\n",
    "add_hour"
   ]
  },
  {
   "cell_type": "code",
   "execution_count": null,
   "metadata": {},
   "outputs": [],
   "source": [
    "pd.to_datetime(add_hour)"
   ]
  },
  {
   "cell_type": "code",
   "execution_count": null,
   "metadata": {},
   "outputs": [],
   "source": [
    "extract = sales_data[(sales_data['ORDERDATE']>=pd.to_datetime(subtracted_date)) & (sales_data['ORDERDATE']<=pd.to_datetime(add_hour))] "
   ]
  },
  {
   "cell_type": "code",
   "execution_count": null,
   "metadata": {},
   "outputs": [],
   "source": [
    "extract['ORDERDATE'] = pd.Timestamp(extract['ORDERDATE'])"
   ]
  },
  {
   "cell_type": "code",
   "execution_count": null,
   "metadata": {},
   "outputs": [],
   "source": [
    "extract.info()"
   ]
  }
 ],
 "metadata": {
  "interpreter": {
   "hash": "40f75da263f9f4e6446656e49c0e56607227f5410069aa0cfb4a0a1cb8065b3b"
  },
  "kernelspec": {
   "display_name": "Python 3.8.10 64-bit",
   "language": "python",
   "name": "python3"
  },
  "language_info": {
   "codemirror_mode": {
    "name": "ipython",
    "version": 3
   },
   "file_extension": ".py",
   "mimetype": "text/x-python",
   "name": "python",
   "nbconvert_exporter": "python",
   "pygments_lexer": "ipython3",
   "version": "3.8.10"
  },
  "orig_nbformat": 4
 },
 "nbformat": 4,
 "nbformat_minor": 2
}
