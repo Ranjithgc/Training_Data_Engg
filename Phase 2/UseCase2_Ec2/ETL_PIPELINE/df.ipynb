{
 "cells": [
  {
   "cell_type": "code",
   "execution_count": 2,
   "metadata": {},
   "outputs": [],
   "source": [
    "import pandas as pd\n",
    "from datetime import timedelta,datetime\n",
    "import numpy as np"
   ]
  },
  {
   "cell_type": "code",
   "execution_count": 2,
   "metadata": {},
   "outputs": [],
   "source": [
    "sales_data = pd.read_csv(r'C:\\Users\\Ranjith.gc\\Training(Ranjith)\\Phase 2\\UseCase2_Ec2\\ETL_PIPELINE\\sales_data_sample.csv')\n"
   ]
  },
  {
   "cell_type": "code",
   "execution_count": 3,
   "metadata": {},
   "outputs": [],
   "source": [
    "sales_data['ORDERDATE']=pd.to_datetime(sales_data['ORDERDATE'])"
   ]
  },
  {
   "cell_type": "code",
   "execution_count": 4,
   "metadata": {},
   "outputs": [
    {
     "name": "stdout",
     "output_type": "stream",
     "text": [
      "2021-11-25 18:09:30.512654\n"
     ]
    },
    {
     "data": {
      "text/plain": [
       "datetime.datetime(2021, 11, 24, 18, 9, 30, 512654)"
      ]
     },
     "execution_count": 4,
     "metadata": {},
     "output_type": "execute_result"
    }
   ],
   "source": [
    "now = datetime.now()\n",
    "print(now)\n",
    "subtracted_date = now - timedelta(days=1)\n",
    "subtracted_date\n"
   ]
  },
  {
   "cell_type": "code",
   "execution_count": 5,
   "metadata": {},
   "outputs": [
    {
     "data": {
      "text/plain": [
       "datetime.datetime(2021, 11, 24, 19, 9, 30, 512654)"
      ]
     },
     "execution_count": 5,
     "metadata": {},
     "output_type": "execute_result"
    }
   ],
   "source": [
    "add_hour = subtracted_date + timedelta(hours=1)\n",
    "add_hour"
   ]
  },
  {
   "cell_type": "code",
   "execution_count": 6,
   "metadata": {},
   "outputs": [
    {
     "data": {
      "text/plain": [
       "Timestamp('2021-11-24 19:09:30.512654')"
      ]
     },
     "execution_count": 6,
     "metadata": {},
     "output_type": "execute_result"
    }
   ],
   "source": [
    "pd.to_datetime(add_hour)"
   ]
  },
  {
   "cell_type": "code",
   "execution_count": 7,
   "metadata": {},
   "outputs": [],
   "source": [
    "extract = sales_data[(sales_data['ORDERDATE']>=pd.to_datetime(subtracted_date)) & (sales_data['ORDERDATE']<=pd.to_datetime(add_hour))] "
   ]
  },
  {
   "cell_type": "code",
   "execution_count": 22,
   "metadata": {},
   "outputs": [
    {
     "ename": "TypeError",
     "evalue": "Cannot convert input [4     2021-11-24 19:00:00\n28    2021-11-24 19:00:00\n52    2021-11-24 19:00:00\n76    2021-11-24 19:00:00\n100   2021-11-24 19:00:00\n124   2021-11-24 19:00:00\n148   2021-11-24 19:00:00\n172   2021-11-24 19:00:00\n196   2021-11-24 19:00:00\n220   2021-11-24 19:00:00\n244   2021-11-24 19:00:00\n268   2021-11-24 19:00:00\n292   2021-11-24 19:00:00\n316   2021-11-24 19:00:00\n340   2021-11-24 19:00:00\n364   2021-11-24 19:00:00\n388   2021-11-24 19:00:00\n412   2021-11-24 19:00:00\n436   2021-11-24 19:00:00\n460   2021-11-24 19:00:00\n484   2021-11-24 19:00:00\n508   2021-11-24 19:00:00\n532   2021-11-24 19:00:00\n556   2021-11-24 19:00:00\n580   2021-11-24 19:00:00\n604   2021-11-24 19:00:00\nName: ORDERDATE, dtype: datetime64[ns]] of type <class 'pandas.core.series.Series'> to Timestamp",
     "output_type": "error",
     "traceback": [
      "\u001b[1;31m---------------------------------------------------------------------------\u001b[0m",
      "\u001b[1;31mTypeError\u001b[0m                                 Traceback (most recent call last)",
      "\u001b[1;32m~\\AppData\\Local\\Temp/ipykernel_16444/1053639319.py\u001b[0m in \u001b[0;36m<module>\u001b[1;34m\u001b[0m\n\u001b[1;32m----> 1\u001b[1;33m \u001b[0mextract\u001b[0m\u001b[1;33m[\u001b[0m\u001b[1;34m'ORDERDATE'\u001b[0m\u001b[1;33m]\u001b[0m \u001b[1;33m=\u001b[0m \u001b[0mpd\u001b[0m\u001b[1;33m.\u001b[0m\u001b[0mTimestamp\u001b[0m\u001b[1;33m(\u001b[0m\u001b[0mextract\u001b[0m\u001b[1;33m[\u001b[0m\u001b[1;34m'ORDERDATE'\u001b[0m\u001b[1;33m]\u001b[0m\u001b[1;33m)\u001b[0m\u001b[1;33m\u001b[0m\u001b[1;33m\u001b[0m\u001b[0m\n\u001b[0m",
      "\u001b[1;32m~\\AppData\\Local\\Programs\\Python\\Python38\\lib\\site-packages\\pandas\\_libs\\tslibs\\timestamps.pyx\u001b[0m in \u001b[0;36mpandas._libs.tslibs.timestamps.Timestamp.__new__\u001b[1;34m()\u001b[0m\n",
      "\u001b[1;32m~\\AppData\\Local\\Programs\\Python\\Python38\\lib\\site-packages\\pandas\\_libs\\tslibs\\conversion.pyx\u001b[0m in \u001b[0;36mpandas._libs.tslibs.conversion.convert_to_tsobject\u001b[1;34m()\u001b[0m\n",
      "\u001b[1;31mTypeError\u001b[0m: Cannot convert input [4     2021-11-24 19:00:00\n28    2021-11-24 19:00:00\n52    2021-11-24 19:00:00\n76    2021-11-24 19:00:00\n100   2021-11-24 19:00:00\n124   2021-11-24 19:00:00\n148   2021-11-24 19:00:00\n172   2021-11-24 19:00:00\n196   2021-11-24 19:00:00\n220   2021-11-24 19:00:00\n244   2021-11-24 19:00:00\n268   2021-11-24 19:00:00\n292   2021-11-24 19:00:00\n316   2021-11-24 19:00:00\n340   2021-11-24 19:00:00\n364   2021-11-24 19:00:00\n388   2021-11-24 19:00:00\n412   2021-11-24 19:00:00\n436   2021-11-24 19:00:00\n460   2021-11-24 19:00:00\n484   2021-11-24 19:00:00\n508   2021-11-24 19:00:00\n532   2021-11-24 19:00:00\n556   2021-11-24 19:00:00\n580   2021-11-24 19:00:00\n604   2021-11-24 19:00:00\nName: ORDERDATE, dtype: datetime64[ns]] of type <class 'pandas.core.series.Series'> to Timestamp"
     ]
    }
   ],
   "source": [
    "extract['ORDERDATE'] = pd.Timestamp(extract['ORDERDATE'])"
   ]
  },
  {
   "cell_type": "code",
   "execution_count": 15,
   "metadata": {},
   "outputs": [
    {
     "name": "stdout",
     "output_type": "stream",
     "text": [
      "<class 'pandas.core.frame.DataFrame'>\n",
      "Int64Index: 26 entries, 4 to 604\n",
      "Data columns (total 11 columns):\n",
      " #   Column           Non-Null Count  Dtype         \n",
      "---  ------           --------------  -----         \n",
      " 0   ORDERNUMBER      26 non-null     int64         \n",
      " 1   QUANTITYORDERED  26 non-null     int64         \n",
      " 2   PRICEEACH        26 non-null     float64       \n",
      " 3   ORDERLINENUMBER  26 non-null     int64         \n",
      " 4   SALES            26 non-null     float64       \n",
      " 5   ORDERDATE        26 non-null     datetime64[ns]\n",
      " 6   STATUS           26 non-null     object        \n",
      " 7   QTR_ID           26 non-null     int64         \n",
      " 8   MONTH_ID         26 non-null     int64         \n",
      " 9   YEAR_ID          26 non-null     int64         \n",
      " 10  PRODUCTLINE      26 non-null     object        \n",
      "dtypes: datetime64[ns](1), float64(2), int64(6), object(2)\n",
      "memory usage: 2.4+ KB\n"
     ]
    }
   ],
   "source": [
    "extract.info()"
   ]
  }
 ],
 "metadata": {
  "interpreter": {
   "hash": "40f75da263f9f4e6446656e49c0e56607227f5410069aa0cfb4a0a1cb8065b3b"
  },
  "kernelspec": {
   "display_name": "Python 3.8.10 64-bit",
   "language": "python",
   "name": "python3"
  },
  "language_info": {
   "codemirror_mode": {
    "name": "ipython",
    "version": 3
   },
   "file_extension": ".py",
   "mimetype": "text/x-python",
   "name": "python",
   "nbconvert_exporter": "python",
   "pygments_lexer": "ipython3",
   "version": "3.8.10"
  },
  "orig_nbformat": 4
 },
 "nbformat": 4,
 "nbformat_minor": 2
}
